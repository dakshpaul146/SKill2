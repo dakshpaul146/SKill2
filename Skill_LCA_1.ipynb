{
  "nbformat": 4,
  "nbformat_minor": 0,
  "metadata": {
    "colab": {
      "provenance": [],
      "authorship_tag": "ABX9TyOaTbgsbBvqIXCLqgMrDk3W",
      "include_colab_link": true
    },
    "kernelspec": {
      "name": "python3",
      "display_name": "Python 3"
    },
    "language_info": {
      "name": "python"
    }
  },
  "cells": [
    {
      "cell_type": "markdown",
      "metadata": {
        "id": "view-in-github",
        "colab_type": "text"
      },
      "source": [
        "<a href=\"https://colab.research.google.com/github/dakshpaul146/SKill2/blob/main/Skill_LCA_1.ipynb\" target=\"_parent\"><img src=\"https://colab.research.google.com/assets/colab-badge.svg\" alt=\"Open In Colab\"/></a>"
      ]
    },
    {
      "cell_type": "code",
      "execution_count": 1,
      "metadata": {
        "colab": {
          "base_uri": "https://localhost:8080/"
        },
        "id": "Zu7vOYJT6Dfk",
        "outputId": "ba71a86f-fec0-4b30-bbd5-a174dce68135"
      },
      "outputs": [
        {
          "output_type": "stream",
          "name": "stdout",
          "text": [
            "Merged Dataset:\n",
            "   sepal_length  sepal_width  petal_length  petal_width        class  \\\n",
            "0           5.1          3.5           1.4          0.2  Iris-setosa   \n",
            "1           4.9          3.0           1.4          0.2  Iris-setosa   \n",
            "2           4.7          3.2           1.3          0.2  Iris-setosa   \n",
            "3           4.6          3.1           1.5          0.2  Iris-setosa   \n",
            "4           5.0          3.6           1.4          0.2  Iris-setosa   \n",
            "\n",
            "   fixed acidity  volatile acidity  citric acid  residual sugar  chlorides  \\\n",
            "0            NaN               NaN          NaN             NaN        NaN   \n",
            "1            NaN               NaN          NaN             NaN        NaN   \n",
            "2            NaN               NaN          NaN             NaN        NaN   \n",
            "3            NaN               NaN          NaN             NaN        NaN   \n",
            "4            NaN               NaN          NaN             NaN        NaN   \n",
            "\n",
            "   free sulfur dioxide  total sulfur dioxide  density  pH  sulphates  alcohol  \\\n",
            "0                  NaN                   NaN      NaN NaN        NaN      NaN   \n",
            "1                  NaN                   NaN      NaN NaN        NaN      NaN   \n",
            "2                  NaN                   NaN      NaN NaN        NaN      NaN   \n",
            "3                  NaN                   NaN      NaN NaN        NaN      NaN   \n",
            "4                  NaN                   NaN      NaN NaN        NaN      NaN   \n",
            "\n",
            "   quality  \n",
            "0      NaN  \n",
            "1      NaN  \n",
            "2      NaN  \n",
            "3      NaN  \n",
            "4      NaN  \n"
          ]
        }
      ],
      "source": [
        "import pandas as pd\n",
        "import requests\n",
        "from io import StringIO\n",
        "\n",
        "# Define the URLs of the datasets\n",
        "url_1 = \"https://archive.ics.uci.edu/ml/machine-learning-databases/iris/iris.data\"\n",
        "url_2 = \"https://archive.ics.uci.edu/ml/machine-learning-databases/wine-quality/winequality-red.csv\"\n",
        "\n",
        "# Load the first dataset (Iris dataset)\n",
        "response_1 = requests.get(url_1)\n",
        "data_1 = StringIO(response_1.text)\n",
        "columns_1 = ['sepal_length', 'sepal_width', 'petal_length', 'petal_width', 'class']  # Define columns for Iris dataset\n",
        "df1 = pd.read_csv(data_1, header=None, names=columns_1)\n",
        "\n",
        "# Load the second dataset (Wine Quality dataset)\n",
        "response_2 = requests.get(url_2)\n",
        "data_2 = StringIO(response_2.text)\n",
        "df2 = pd.read_csv(data_2, delimiter=';')\n",
        "\n",
        "merged_df = pd.concat([df1, df2], axis=0, ignore_index=True)\n",
        "\n",
        "print(\"Merged Dataset:\")\n",
        "print(merged_df.head())"
      ]
    },
    {
      "cell_type": "code",
      "source": [
        "import pandas as pd\n",
        "from sklearn.preprocessing import LabelEncoder, StandardScaler\n",
        "\n",
        "try:\n",
        "    url = \"https://archive.ics.uci.edu/ml/machine-learning-databases/iris/iris.data\"\n",
        "    columns = ['sepal_length', 'sepal_width', 'petal_length', 'petal_width', 'class']\n",
        "    df = pd.read_csv(url, header=None, names=columns)\n",
        "    print(\"Dataset loaded successfully.\")\n",
        "except Exception as e:\n",
        "    print(\"Error loading dataset:\", e)\n",
        "    exit()\n",
        "\n",
        "print(\"\\nFirst 5 rows:\")\n",
        "print(df.head())\n",
        "\n",
        "print(\"\\nMissing values:\\n\", df.isnull().sum())\n",
        "print(\"\\nDuplicates:\", df.duplicated().sum())\n",
        "\n",
        "df.drop_duplicates(inplace=True)\n",
        "\n",
        "try:\n",
        "    le = LabelEncoder()\n",
        "    df['class'] = le.fit_transform(df['class'])\n",
        "except Exception as e:\n",
        "    print(\"Error encoding class column:\", e)\n",
        "\n",
        "try:\n",
        "    scaler = StandardScaler()\n",
        "    num_cols = ['sepal_length', 'sepal_width', 'petal_length', 'petal_width']\n",
        "    df[num_cols] = scaler.fit_transform(df[num_cols])\n",
        "except Exception as e:\n",
        "    print(\"Error during standardization:\", e)\n",
        "\n",
        "print(\"\\nCleaned Data:\")\n",
        "print(df.head())"
      ],
      "metadata": {
        "colab": {
          "base_uri": "https://localhost:8080/"
        },
        "id": "FzIhWrqu6KEm",
        "outputId": "a2310ed4-ddd7-43cf-d2b5-c0776c63075a"
      },
      "execution_count": 2,
      "outputs": [
        {
          "output_type": "stream",
          "name": "stdout",
          "text": [
            "Dataset loaded successfully.\n",
            "\n",
            "First 5 rows:\n",
            "   sepal_length  sepal_width  petal_length  petal_width        class\n",
            "0           5.1          3.5           1.4          0.2  Iris-setosa\n",
            "1           4.9          3.0           1.4          0.2  Iris-setosa\n",
            "2           4.7          3.2           1.3          0.2  Iris-setosa\n",
            "3           4.6          3.1           1.5          0.2  Iris-setosa\n",
            "4           5.0          3.6           1.4          0.2  Iris-setosa\n",
            "\n",
            "Missing values:\n",
            " sepal_length    0\n",
            "sepal_width     0\n",
            "petal_length    0\n",
            "petal_width     0\n",
            "class           0\n",
            "dtype: int64\n",
            "\n",
            "Duplicates: 3\n",
            "\n",
            "Cleaned Data:\n",
            "   sepal_length  sepal_width  petal_length  petal_width  class\n",
            "0     -0.915509     1.019971     -1.357737      -1.3357      0\n",
            "1     -1.157560    -0.128082     -1.357737      -1.3357      0\n",
            "2     -1.399610     0.331139     -1.414778      -1.3357      0\n",
            "3     -1.520635     0.101529     -1.300696      -1.3357      0\n",
            "4     -1.036535     1.249582     -1.357737      -1.3357      0\n"
          ]
        }
      ]
    },
    {
      "cell_type": "code",
      "source": [
        "import pandas as pd\n",
        "from sklearn.preprocessing import LabelEncoder\n",
        "url = \"https://archive.ics.uci.edu/ml/machine-learning-databases/iris/iris.data\"\n",
        "columns = ['sepal_length', 'sepal_width', 'petal_length', 'petal_width', 'class']\n",
        "df = pd.read_csv(url, header=None, names=columns)\n",
        "\n",
        "print(\"Dataset Preview:\")\n",
        "print(df.head())\n",
        "\n",
        "le = LabelEncoder()\n",
        "df['class_encoded'] = le.fit_transform(df['class'])\n",
        "print(\"\\nAfter Label Encoding:\")\n",
        "print(df[['class', 'class_encoded']].head())\n",
        "\n",
        "df_onehot = pd.get_dummies(df['class'], prefix='class')\n",
        "df = pd.concat([df, df_onehot], axis=1)\n",
        "print(\"\\nAfter One-Hot Encoding:\")\n",
        "print(df.head())"
      ],
      "metadata": {
        "colab": {
          "base_uri": "https://localhost:8080/"
        },
        "id": "2cl8hzRC6asi",
        "outputId": "608c5fe1-df7c-4d07-dcfa-5f469a1bc900"
      },
      "execution_count": 3,
      "outputs": [
        {
          "output_type": "stream",
          "name": "stdout",
          "text": [
            "Dataset Preview:\n",
            "   sepal_length  sepal_width  petal_length  petal_width        class\n",
            "0           5.1          3.5           1.4          0.2  Iris-setosa\n",
            "1           4.9          3.0           1.4          0.2  Iris-setosa\n",
            "2           4.7          3.2           1.3          0.2  Iris-setosa\n",
            "3           4.6          3.1           1.5          0.2  Iris-setosa\n",
            "4           5.0          3.6           1.4          0.2  Iris-setosa\n",
            "\n",
            "After Label Encoding:\n",
            "         class  class_encoded\n",
            "0  Iris-setosa              0\n",
            "1  Iris-setosa              0\n",
            "2  Iris-setosa              0\n",
            "3  Iris-setosa              0\n",
            "4  Iris-setosa              0\n",
            "\n",
            "After One-Hot Encoding:\n",
            "   sepal_length  sepal_width  petal_length  petal_width        class  \\\n",
            "0           5.1          3.5           1.4          0.2  Iris-setosa   \n",
            "1           4.9          3.0           1.4          0.2  Iris-setosa   \n",
            "2           4.7          3.2           1.3          0.2  Iris-setosa   \n",
            "3           4.6          3.1           1.5          0.2  Iris-setosa   \n",
            "4           5.0          3.6           1.4          0.2  Iris-setosa   \n",
            "\n",
            "   class_encoded  class_Iris-setosa  class_Iris-versicolor  \\\n",
            "0              0               True                  False   \n",
            "1              0               True                  False   \n",
            "2              0               True                  False   \n",
            "3              0               True                  False   \n",
            "4              0               True                  False   \n",
            "\n",
            "   class_Iris-virginica  \n",
            "0                 False  \n",
            "1                 False  \n",
            "2                 False  \n",
            "3                 False  \n",
            "4                 False  \n"
          ]
        }
      ]
    },
    {
      "cell_type": "code",
      "source": [
        "import pandas as pd\n",
        "import numpy as np\n",
        "from sklearn.model_selection import train_test_split\n",
        "from sklearn.preprocessing import StandardScaler, MinMaxScaler\n",
        "from imblearn.over_sampling import SMOTE\n",
        "from urllib.request import urlopen\n",
        "\n",
        "url = \"https://archive.ics.uci.edu/ml/machine-learning-databases/wine/wine.data\"\n",
        "columns = [\"Class\", \"Alcohol\", \"Malic Acid\", \"Ash\", \"Alcalinity of Ash\", \"Magnesium\",\n",
        "           \"Total Phenols\", \"Flavanoids\", \"Nonflavanoid Phenols\", \"Proanthocyanins\",\n",
        "           \"Color Intensity\", \"Hue\", \"OD280/OD315\", \"Proline\"]\n",
        "\n",
        "df = pd.read_csv(url, names=columns)\n",
        "\n",
        "print(\"Original Dataset Shape:\", df.shape)\n",
        "print(df.head())\n",
        "\n",
        "X = df.drop(columns=[\"Class\"])\n",
        "y = df[\"Class\"]\n",
        "\n",
        "X.fillna(X.mean(), inplace=True)  # Fill missing values with column mean\n",
        "\n",
        "minmax_scaler = MinMaxScaler()\n",
        "X_normalized = minmax_scaler.fit_transform(X)\n",
        "\n",
        "standard_scaler = StandardScaler()\n",
        "X_scaled = standard_scaler.fit_transform(X)\n",
        "\n",
        "X_scaled_df = pd.DataFrame(X_scaled, columns=X.columns)\n",
        "\n",
        "X_train, X_test, y_train, y_test = train_test_split(X_scaled_df, y, test_size=0.2, random_state=42, stratify=y)\n",
        "\n",
        "smote = SMOTE(sampling_strategy=\"auto\", random_state=42)\n",
        "X_train_balanced, y_train_balanced = smote.fit_resample(X_train, y_train)\n",
        "\n",
        "print(\"\\nBalanced Training Set Shape:\", X_train_balanced.shape)\n",
        "print(\"Class Distribution Before SMOTE:\\n\", y_train.value_counts())\n",
        "print(\"Class Distribution After SMOTE:\\n\", pd.Series(y_train_balanced).value_counts())"
      ],
      "metadata": {
        "colab": {
          "base_uri": "https://localhost:8080/"
        },
        "id": "t-bO4Kyr6mCr",
        "outputId": "b23cc913-f7e0-4735-a1fb-3ff6e1ffe0c7"
      },
      "execution_count": 4,
      "outputs": [
        {
          "output_type": "stream",
          "name": "stdout",
          "text": [
            "Original Dataset Shape: (178, 14)\n",
            "   Class  Alcohol  Malic Acid   Ash  Alcalinity of Ash  Magnesium  \\\n",
            "0      1    14.23        1.71  2.43               15.6        127   \n",
            "1      1    13.20        1.78  2.14               11.2        100   \n",
            "2      1    13.16        2.36  2.67               18.6        101   \n",
            "3      1    14.37        1.95  2.50               16.8        113   \n",
            "4      1    13.24        2.59  2.87               21.0        118   \n",
            "\n",
            "   Total Phenols  Flavanoids  Nonflavanoid Phenols  Proanthocyanins  \\\n",
            "0           2.80        3.06                  0.28             2.29   \n",
            "1           2.65        2.76                  0.26             1.28   \n",
            "2           2.80        3.24                  0.30             2.81   \n",
            "3           3.85        3.49                  0.24             2.18   \n",
            "4           2.80        2.69                  0.39             1.82   \n",
            "\n",
            "   Color Intensity   Hue  OD280/OD315  Proline  \n",
            "0             5.64  1.04         3.92     1065  \n",
            "1             4.38  1.05         3.40     1050  \n",
            "2             5.68  1.03         3.17     1185  \n",
            "3             7.80  0.86         3.45     1480  \n",
            "4             4.32  1.04         2.93      735  \n",
            "\n",
            "Balanced Training Set Shape: (171, 13)\n",
            "Class Distribution Before SMOTE:\n",
            " Class\n",
            "2    57\n",
            "1    47\n",
            "3    38\n",
            "Name: count, dtype: int64\n",
            "Class Distribution After SMOTE:\n",
            " Class\n",
            "1    57\n",
            "3    57\n",
            "2    57\n",
            "Name: count, dtype: int64\n"
          ]
        }
      ]
    }
  ]
}