{
  "nbformat": 4,
  "nbformat_minor": 0,
  "metadata": {
    "colab": {
      "provenance": [],
      "authorship_tag": "ABX9TyMQpK3Td3u9mv0i/YX0HerX",
      "include_colab_link": true
    },
    "kernelspec": {
      "name": "python3",
      "display_name": "Python 3"
    },
    "language_info": {
      "name": "python"
    }
  },
  "cells": [
    {
      "cell_type": "markdown",
      "metadata": {
        "id": "view-in-github",
        "colab_type": "text"
      },
      "source": [
        "<a href=\"https://colab.research.google.com/github/dakshpaul146/SKill2/blob/main/SY_AIDS_Sem_IV_Skill_Exp_2.ipynb\" target=\"_parent\"><img src=\"https://colab.research.google.com/assets/colab-badge.svg\" alt=\"Open In Colab\"/></a>"
      ]
    },
    {
      "cell_type": "code",
      "execution_count": 2,
      "metadata": {
        "colab": {
          "base_uri": "https://localhost:8080/"
        },
        "id": "BWDNz_X7Yi1Q",
        "outputId": "6f486104-2178-4534-e40b-50b729bcadb3"
      },
      "outputs": [
        {
          "output_type": "stream",
          "name": "stdout",
          "text": [
            "Dataset loaded successfully.\n",
            "\n",
            "First 5 rows:\n",
            "   sepal_length  sepal_width  petal_length  petal_width        class\n",
            "0           5.1          3.5           1.4          0.2  Iris-setosa\n",
            "1           4.9          3.0           1.4          0.2  Iris-setosa\n",
            "2           4.7          3.2           1.3          0.2  Iris-setosa\n",
            "3           4.6          3.1           1.5          0.2  Iris-setosa\n",
            "4           5.0          3.6           1.4          0.2  Iris-setosa\n",
            "\n",
            "Missing values:\n",
            " sepal_length    0\n",
            "sepal_width     0\n",
            "petal_length    0\n",
            "petal_width     0\n",
            "class           0\n",
            "dtype: int64\n",
            "\n",
            "Duplicates: 3\n",
            "\n",
            "Cleaned Data:\n",
            "   sepal_length  sepal_width  petal_length  petal_width  class\n",
            "0     -0.915509     1.019971     -1.357737      -1.3357      0\n",
            "1     -1.157560    -0.128082     -1.357737      -1.3357      0\n",
            "2     -1.399610     0.331139     -1.414778      -1.3357      0\n",
            "3     -1.520635     0.101529     -1.300696      -1.3357      0\n",
            "4     -1.036535     1.249582     -1.357737      -1.3357      0\n"
          ]
        }
      ],
      "source": [
        "import pandas as pd\n",
        "from sklearn.preprocessing import LabelEncoder, StandardScaler\n",
        "\n",
        "try:\n",
        "    url = \"https://archive.ics.uci.edu/ml/machine-learning-databases/iris/iris.data\"\n",
        "    columns = ['sepal_length', 'sepal_width', 'petal_length', 'petal_width', 'class']\n",
        "    df = pd.read_csv(url, header=None, names=columns)\n",
        "    print(\"Dataset loaded successfully.\")\n",
        "except Exception as e:\n",
        "    print(\"Error loading dataset:\", e)\n",
        "    exit()\n",
        "\n",
        "print(\"\\nFirst 5 rows:\")\n",
        "print(df.head())\n",
        "\n",
        "print(\"\\nMissing values:\\n\", df.isnull().sum())\n",
        "print(\"\\nDuplicates:\", df.duplicated().sum())\n",
        "\n",
        "df.drop_duplicates(inplace=True)\n",
        "\n",
        "try:\n",
        "    le = LabelEncoder()\n",
        "    df['class'] = le.fit_transform(df['class'])\n",
        "except Exception as e:\n",
        "    print(\"Error encoding class column:\", e)\n",
        "\n",
        "try:\n",
        "    scaler = StandardScaler()\n",
        "    num_cols = ['sepal_length', 'sepal_width', 'petal_length', 'petal_width']\n",
        "    df[num_cols] = scaler.fit_transform(df[num_cols])\n",
        "except Exception as e:\n",
        "    print(\"Error during standardization:\", e)\n",
        "\n",
        "print(\"\\nCleaned Data:\")\n",
        "print(df.head())"
      ]
    }
  ]
}