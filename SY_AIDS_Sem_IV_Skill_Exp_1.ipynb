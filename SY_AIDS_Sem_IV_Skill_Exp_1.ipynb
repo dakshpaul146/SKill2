{
  "nbformat": 4,
  "nbformat_minor": 0,
  "metadata": {
    "colab": {
      "provenance": [],
      "authorship_tag": "ABX9TyNWzhYEMp9IY+a23DZ/WoQ+",
      "include_colab_link": true
    },
    "kernelspec": {
      "name": "python3",
      "display_name": "Python 3"
    },
    "language_info": {
      "name": "python"
    }
  },
  "cells": [
    {
      "cell_type": "markdown",
      "metadata": {
        "id": "view-in-github",
        "colab_type": "text"
      },
      "source": [
        "<a href=\"https://colab.research.google.com/github/dakshpaul146/SKill2/blob/main/SY_AIDS_Sem_IV_Skill_Exp_1.ipynb\" target=\"_parent\"><img src=\"https://colab.research.google.com/assets/colab-badge.svg\" alt=\"Open In Colab\"/></a>"
      ]
    },
    {
      "cell_type": "code",
      "execution_count": null,
      "metadata": {
        "colab": {
          "base_uri": "https://localhost:8080/"
        },
        "id": "PBzNTeRsC-cx",
        "outputId": "952d84b3-1fe7-416d-db09-c2a04272b83d"
      },
      "outputs": [
        {
          "output_type": "stream",
          "name": "stdout",
          "text": [
            "Merged Dataset:\n",
            "   sepal_length  sepal_width  petal_length  petal_width        class  \\\n",
            "0           5.1          3.5           1.4          0.2  Iris-setosa   \n",
            "1           4.9          3.0           1.4          0.2  Iris-setosa   \n",
            "2           4.7          3.2           1.3          0.2  Iris-setosa   \n",
            "3           4.6          3.1           1.5          0.2  Iris-setosa   \n",
            "4           5.0          3.6           1.4          0.2  Iris-setosa   \n",
            "\n",
            "   fixed acidity  volatile acidity  citric acid  residual sugar  chlorides  \\\n",
            "0            NaN               NaN          NaN             NaN        NaN   \n",
            "1            NaN               NaN          NaN             NaN        NaN   \n",
            "2            NaN               NaN          NaN             NaN        NaN   \n",
            "3            NaN               NaN          NaN             NaN        NaN   \n",
            "4            NaN               NaN          NaN             NaN        NaN   \n",
            "\n",
            "   free sulfur dioxide  total sulfur dioxide  density  pH  sulphates  alcohol  \\\n",
            "0                  NaN                   NaN      NaN NaN        NaN      NaN   \n",
            "1                  NaN                   NaN      NaN NaN        NaN      NaN   \n",
            "2                  NaN                   NaN      NaN NaN        NaN      NaN   \n",
            "3                  NaN                   NaN      NaN NaN        NaN      NaN   \n",
            "4                  NaN                   NaN      NaN NaN        NaN      NaN   \n",
            "\n",
            "   quality  \n",
            "0      NaN  \n",
            "1      NaN  \n",
            "2      NaN  \n",
            "3      NaN  \n",
            "4      NaN  \n"
          ]
        }
      ],
      "source": [
        "import pandas as pd\n",
        "import requests\n",
        "from io import StringIO\n",
        "\n",
        "# Define the URLs of the datasets\n",
        "url_1 = \"https://archive.ics.uci.edu/ml/machine-learning-databases/iris/iris.data\"\n",
        "url_2 = \"https://archive.ics.uci.edu/ml/machine-learning-databases/wine-quality/winequality-red.csv\"\n",
        "\n",
        "# Load the first dataset (Iris dataset)\n",
        "response_1 = requests.get(url_1)\n",
        "data_1 = StringIO(response_1.text)\n",
        "columns_1 = ['sepal_length', 'sepal_width', 'petal_length', 'petal_width', 'class']  # Define columns for Iris dataset\n",
        "df1 = pd.read_csv(data_1, header=None, names=columns_1)\n",
        "\n",
        "# Load the second dataset (Wine Quality dataset)\n",
        "response_2 = requests.get(url_2)\n",
        "data_2 = StringIO(response_2.text)\n",
        "df2 = pd.read_csv(data_2, delimiter=';')\n",
        "\n",
        "merged_df = pd.concat([df1, df2], axis=0, ignore_index=True)\n",
        "\n",
        "print(\"Merged Dataset:\")\n",
        "print(merged_df.head())"
      ]
    }
  ]
}