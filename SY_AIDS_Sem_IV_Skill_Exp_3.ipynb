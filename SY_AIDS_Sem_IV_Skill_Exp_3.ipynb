{
  "nbformat": 4,
  "nbformat_minor": 0,
  "metadata": {
    "colab": {
      "provenance": [],
      "authorship_tag": "ABX9TyOV687th/vNDPkYcoEihLo1",
      "include_colab_link": true
    },
    "kernelspec": {
      "name": "python3",
      "display_name": "Python 3"
    },
    "language_info": {
      "name": "python"
    }
  },
  "cells": [
    {
      "cell_type": "markdown",
      "metadata": {
        "id": "view-in-github",
        "colab_type": "text"
      },
      "source": [
        "<a href=\"https://colab.research.google.com/github/dakshpaul146/SKill2/blob/main/SY_AIDS_Sem_IV_Skill_Exp_3.ipynb\" target=\"_parent\"><img src=\"https://colab.research.google.com/assets/colab-badge.svg\" alt=\"Open In Colab\"/></a>"
      ]
    },
    {
      "cell_type": "code",
      "execution_count": 3,
      "metadata": {
        "colab": {
          "base_uri": "https://localhost:8080/"
        },
        "id": "6eJThkmtXnGA",
        "outputId": "1da5cd13-4bee-4cb6-9d37-9e817b34d34d"
      },
      "outputs": [
        {
          "output_type": "stream",
          "name": "stdout",
          "text": [
            "Dataset Preview:\n",
            "   sepal_length  sepal_width  petal_length  petal_width        class\n",
            "0           5.1          3.5           1.4          0.2  Iris-setosa\n",
            "1           4.9          3.0           1.4          0.2  Iris-setosa\n",
            "2           4.7          3.2           1.3          0.2  Iris-setosa\n",
            "3           4.6          3.1           1.5          0.2  Iris-setosa\n",
            "4           5.0          3.6           1.4          0.2  Iris-setosa\n",
            "\n",
            "After Label Encoding:\n",
            "         class  class_encoded\n",
            "0  Iris-setosa              0\n",
            "1  Iris-setosa              0\n",
            "2  Iris-setosa              0\n",
            "3  Iris-setosa              0\n",
            "4  Iris-setosa              0\n",
            "\n",
            "After One-Hot Encoding:\n",
            "   sepal_length  sepal_width  petal_length  petal_width        class  \\\n",
            "0           5.1          3.5           1.4          0.2  Iris-setosa   \n",
            "1           4.9          3.0           1.4          0.2  Iris-setosa   \n",
            "2           4.7          3.2           1.3          0.2  Iris-setosa   \n",
            "3           4.6          3.1           1.5          0.2  Iris-setosa   \n",
            "4           5.0          3.6           1.4          0.2  Iris-setosa   \n",
            "\n",
            "   class_encoded  class_Iris-setosa  class_Iris-versicolor  \\\n",
            "0              0               True                  False   \n",
            "1              0               True                  False   \n",
            "2              0               True                  False   \n",
            "3              0               True                  False   \n",
            "4              0               True                  False   \n",
            "\n",
            "   class_Iris-virginica  \n",
            "0                 False  \n",
            "1                 False  \n",
            "2                 False  \n",
            "3                 False  \n",
            "4                 False  \n"
          ]
        }
      ],
      "source": [
        "import pandas as pd\n",
        "from sklearn.preprocessing import LabelEncoder\n",
        "url = \"https://archive.ics.uci.edu/ml/machine-learning-databases/iris/iris.data\"\n",
        "columns = ['sepal_length', 'sepal_width', 'petal_length', 'petal_width', 'class']\n",
        "df = pd.read_csv(url, header=None, names=columns)\n",
        "\n",
        "print(\"Dataset Preview:\")\n",
        "print(df.head())\n",
        "\n",
        "le = LabelEncoder()\n",
        "df['class_encoded'] = le.fit_transform(df['class'])\n",
        "print(\"\\nAfter Label Encoding:\")\n",
        "print(df[['class', 'class_encoded']].head())\n",
        "\n",
        "df_onehot = pd.get_dummies(df['class'], prefix='class')\n",
        "df = pd.concat([df, df_onehot], axis=1)\n",
        "print(\"\\nAfter One-Hot Encoding:\")\n",
        "print(df.head())"
      ]
    }
  ]
}