{
  "nbformat": 4,
  "nbformat_minor": 0,
  "metadata": {
    "colab": {
      "provenance": [],
      "authorship_tag": "ABX9TyOby3xCToLVBWzk1+PW4HSl",
      "include_colab_link": true
    },
    "kernelspec": {
      "name": "python3",
      "display_name": "Python 3"
    },
    "language_info": {
      "name": "python"
    }
  },
  "cells": [
    {
      "cell_type": "markdown",
      "metadata": {
        "id": "view-in-github",
        "colab_type": "text"
      },
      "source": [
        "<a href=\"https://colab.research.google.com/github/dakshpaul146/SKill2/blob/main/SY_AIDS_Sem_IV_Skill_Exp_4.ipynb\" target=\"_parent\"><img src=\"https://colab.research.google.com/assets/colab-badge.svg\" alt=\"Open In Colab\"/></a>"
      ]
    },
    {
      "cell_type": "code",
      "execution_count": 1,
      "metadata": {
        "colab": {
          "base_uri": "https://localhost:8080/"
        },
        "id": "KzEf_2rkXQ3g",
        "outputId": "f2362da3-ef88-4d4c-8bec-ad0a35dd91ec"
      },
      "outputs": [
        {
          "output_type": "stream",
          "name": "stdout",
          "text": [
            "Original Dataset Shape: (178, 14)\n",
            "   Class  Alcohol  Malic Acid   Ash  Alcalinity of Ash  Magnesium  \\\n",
            "0      1    14.23        1.71  2.43               15.6        127   \n",
            "1      1    13.20        1.78  2.14               11.2        100   \n",
            "2      1    13.16        2.36  2.67               18.6        101   \n",
            "3      1    14.37        1.95  2.50               16.8        113   \n",
            "4      1    13.24        2.59  2.87               21.0        118   \n",
            "\n",
            "   Total Phenols  Flavanoids  Nonflavanoid Phenols  Proanthocyanins  \\\n",
            "0           2.80        3.06                  0.28             2.29   \n",
            "1           2.65        2.76                  0.26             1.28   \n",
            "2           2.80        3.24                  0.30             2.81   \n",
            "3           3.85        3.49                  0.24             2.18   \n",
            "4           2.80        2.69                  0.39             1.82   \n",
            "\n",
            "   Color Intensity   Hue  OD280/OD315  Proline  \n",
            "0             5.64  1.04         3.92     1065  \n",
            "1             4.38  1.05         3.40     1050  \n",
            "2             5.68  1.03         3.17     1185  \n",
            "3             7.80  0.86         3.45     1480  \n",
            "4             4.32  1.04         2.93      735  \n",
            "\n",
            "Balanced Training Set Shape: (171, 13)\n",
            "Class Distribution Before SMOTE:\n",
            " Class\n",
            "2    57\n",
            "1    47\n",
            "3    38\n",
            "Name: count, dtype: int64\n",
            "Class Distribution After SMOTE:\n",
            " Class\n",
            "1    57\n",
            "3    57\n",
            "2    57\n",
            "Name: count, dtype: int64\n"
          ]
        }
      ],
      "source": [
        "import pandas as pd\n",
        "import numpy as np\n",
        "from sklearn.model_selection import train_test_split\n",
        "from sklearn.preprocessing import StandardScaler, MinMaxScaler\n",
        "from imblearn.over_sampling import SMOTE\n",
        "from urllib.request import urlopen\n",
        "\n",
        "url = \"https://archive.ics.uci.edu/ml/machine-learning-databases/wine/wine.data\"\n",
        "columns = [\"Class\", \"Alcohol\", \"Malic Acid\", \"Ash\", \"Alcalinity of Ash\", \"Magnesium\",\n",
        "           \"Total Phenols\", \"Flavanoids\", \"Nonflavanoid Phenols\", \"Proanthocyanins\",\n",
        "           \"Color Intensity\", \"Hue\", \"OD280/OD315\", \"Proline\"]\n",
        "\n",
        "df = pd.read_csv(url, names=columns)\n",
        "\n",
        "print(\"Original Dataset Shape:\", df.shape)\n",
        "print(df.head())\n",
        "\n",
        "X = df.drop(columns=[\"Class\"])\n",
        "y = df[\"Class\"]\n",
        "\n",
        "X.fillna(X.mean(), inplace=True)  # Fill missing values with column mean\n",
        "\n",
        "minmax_scaler = MinMaxScaler()\n",
        "X_normalized = minmax_scaler.fit_transform(X)\n",
        "\n",
        "standard_scaler = StandardScaler()\n",
        "X_scaled = standard_scaler.fit_transform(X)\n",
        "\n",
        "X_scaled_df = pd.DataFrame(X_scaled, columns=X.columns)\n",
        "\n",
        "X_train, X_test, y_train, y_test = train_test_split(X_scaled_df, y, test_size=0.2, random_state=42, stratify=y)\n",
        "\n",
        "smote = SMOTE(sampling_strategy=\"auto\", random_state=42)\n",
        "X_train_balanced, y_train_balanced = smote.fit_resample(X_train, y_train)\n",
        "\n",
        "print(\"\\nBalanced Training Set Shape:\", X_train_balanced.shape)\n",
        "print(\"Class Distribution Before SMOTE:\\n\", y_train.value_counts())\n",
        "print(\"Class Distribution After SMOTE:\\n\", pd.Series(y_train_balanced).value_counts())"
      ]
    }
  ]
}