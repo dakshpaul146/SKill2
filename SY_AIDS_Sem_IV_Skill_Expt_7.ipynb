{
  "nbformat": 4,
  "nbformat_minor": 0,
  "metadata": {
    "colab": {
      "provenance": []
    },
    "kernelspec": {
      "name": "python3",
      "display_name": "Python 3"
    },
    "language_info": {
      "name": "python"
    }
  },
  "cells": [
    {
      "cell_type": "markdown",
      "source": [
        "Information Gain: Information Gain measures how much \"information\" a feature gives us about the target variable. It's often used in decision trees to split data.\n",
        "\n",
        "Chi-Square: It measures the association between two categorical variables. It’s useful for testing if a feature is independent of the target.\n",
        "\n",
        "Entropy: It measures the amount of uncertainty or impurity in a dataset. It’s used in decision trees to determine splits."
      ],
      "metadata": {
        "id": "WLvGROMB9AAO"
      }
    },
    {
      "cell_type": "code",
      "source": [
        "from sklearn.feature_selection import mutual_info_classif\n",
        "import pandas as pd\n",
        "from scipy.stats import entropy\n",
        "import numpy as np\n",
        "from sklearn.feature_selection import chi2"
      ],
      "metadata": {
        "id": "clhBzzYu9EOA"
      },
      "execution_count": 1,
      "outputs": []
    },
    {
      "cell_type": "markdown",
      "source": [
        "Read the csv file"
      ],
      "metadata": {
        "id": "VUp27c-09QKB"
      }
    },
    {
      "cell_type": "code",
      "source": [
        "df = pd.read_csv('mtcars.csv')"
      ],
      "metadata": {
        "id": "kKDV8EOy9SuS"
      },
      "execution_count": 2,
      "outputs": []
    },
    {
      "cell_type": "markdown",
      "source": [
        "Information Gain without parent entropy"
      ],
      "metadata": {
        "id": "HnKUeGkb-UFQ"
      }
    },
    {
      "cell_type": "code",
      "source": [
        "X = df[['mpg', 'cyl']]\n",
        "y = df['hp']\n",
        "info_gain = mutual_info_classif(X, y)\n",
        "print(info_gain)"
      ],
      "metadata": {
        "colab": {
          "base_uri": "https://localhost:8080/"
        },
        "id": "HjWnz8rm9Yqi",
        "outputId": "3a16ed5d-e279-4970-8cfc-0fc44e67a2e3"
      },
      "execution_count": 3,
      "outputs": [
        {
          "output_type": "stream",
          "name": "stdout",
          "text": [
            "[1.09634524 1.42821239]\n"
          ]
        }
      ]
    },
    {
      "cell_type": "markdown",
      "source": [
        "CHI-SQUARE"
      ],
      "metadata": {
        "id": "gy8n7wIS_M1l"
      }
    },
    {
      "cell_type": "code",
      "source": [
        "chi_scores, p_values = chi2(X, y)\n",
        "print(chi_scores)\n",
        "print(p_values)"
      ],
      "metadata": {
        "colab": {
          "base_uri": "https://localhost:8080/"
        },
        "id": "ZDMkE2LI_PEr",
        "outputId": "4cef7d0d-815f-4a9e-f94c-5f4c6c0f9f54"
      },
      "execution_count": 4,
      "outputs": [
        {
          "output_type": "stream",
          "name": "stdout",
          "text": [
            "[55.18447141 15.54882155]\n",
            "[6.64456551e-05 7.94441298e-01]\n"
          ]
        }
      ]
    },
    {
      "cell_type": "markdown",
      "source": [
        "PARENT ENTROPY"
      ],
      "metadata": {
        "id": "cJFcI4xy_TqD"
      }
    },
    {
      "cell_type": "code",
      "source": [
        "y = df['vs']\n",
        "values, counts = np.unique(y, return_counts=True)\n",
        "probabilities = counts / len(y)\n",
        "ent = entropy(probabilities, base=2)\n",
        "print(f\"Entropy: {ent*100}%\")"
      ],
      "metadata": {
        "colab": {
          "base_uri": "https://localhost:8080/"
        },
        "id": "BwynLAy4_VZc",
        "outputId": "a7c57e2b-a7ae-4fee-cb48-b3cf3d6f8f39"
      },
      "execution_count": 8,
      "outputs": [
        {
          "output_type": "stream",
          "name": "stdout",
          "text": [
            "Entropy: 98.86994082884975%\n"
          ]
        }
      ]
    },
    {
      "cell_type": "markdown",
      "source": [
        "Information Gain with the calulated entropy"
      ],
      "metadata": {
        "id": "Y0GY3SEHBD0X"
      }
    },
    {
      "cell_type": "code",
      "source": [
        "# Features (X) and target (y)\n",
        "X = df[['mpg', 'cyl']].values\n",
        "y = df['vs'].values"
      ],
      "metadata": {
        "id": "k-14E1Z8BGJe"
      },
      "execution_count": 11,
      "outputs": []
    },
    {
      "cell_type": "code",
      "source": [
        "# Calculating parent Entropy (S)\n",
        "values, counts = np.unique(y, return_counts=True)\n",
        "parent_entropy = entropy(counts / len(y), base=2)\n",
        "print(f\"Parent Entropy: {parent_entropy*100}%\")"
      ],
      "metadata": {
        "colab": {
          "base_uri": "https://localhost:8080/"
        },
        "id": "38yvaKX_BVD7",
        "outputId": "68712397-0f4e-468e-cd41-0bb9c5ec7ac3"
      },
      "execution_count": 12,
      "outputs": [
        {
          "output_type": "stream",
          "name": "stdout",
          "text": [
            "Parent Entropy: 98.86994082884975%\n"
          ]
        }
      ]
    },
    {
      "cell_type": "code",
      "source": [
        "X_feature = X[:, 0]\n",
        "\n",
        "# 2. Split Data Based on Feature X\n",
        "median_value = np.median(X_feature)\n",
        "\n",
        "# Subsets for X_feature <= median and X_feature > median\n",
        "y_left = y[X_feature <= median_value]\n",
        "y_right = y[X_feature > median_value]\n",
        "\n",
        "# Calculate the entropy of subsets\n",
        "values_left, counts_left = np.unique(y_left, return_counts=True)\n",
        "entropy_left = entropy(counts_left / len(y_left), base=2)\n",
        "\n",
        "values_right, counts_right = np.unique(y_right, return_counts=True)\n",
        "entropy_right = entropy(counts_right / len(y_right), base=2)\n",
        "\n",
        "print(f\"Entropy Left (<= median): {entropy_left}\")\n",
        "print(f\"Entropy Right (> median): {entropy_right}\")\n",
        "\n",
        "# Subset sizes\n",
        "left_weight = len(y_left) / len(y)\n",
        "right_weight = len(y_right) / len(y)"
      ],
      "metadata": {
        "colab": {
          "base_uri": "https://localhost:8080/"
        },
        "id": "sovHXxImBZlc",
        "outputId": "362cbe09-c88a-4bb4-90e4-9d075ef6fc3e"
      },
      "execution_count": 13,
      "outputs": [
        {
          "output_type": "stream",
          "name": "stdout",
          "text": [
            "Entropy Left (<= median): 0.672294817075638\n",
            "Entropy Right (> median): 0.8366407419411673\n"
          ]
        }
      ]
    },
    {
      "cell_type": "code",
      "source": [
        "# Information Gain\n",
        "info_gain = parent_entropy - (left_weight * entropy_left + right_weight * entropy_right)\n",
        "print(f\"Information Gain: {info_gain}\")"
      ],
      "metadata": {
        "colab": {
          "base_uri": "https://localhost:8080/"
        },
        "id": "F_OIM-VbBfXR",
        "outputId": "b2ac5bdd-c345-42af-e970-3d5f94675221"
      },
      "execution_count": 14,
      "outputs": [
        {
          "output_type": "stream",
          "name": "stdout",
          "text": [
            "Information Gain: 0.23936743893214252\n"
          ]
        }
      ]
    }
  ]
}