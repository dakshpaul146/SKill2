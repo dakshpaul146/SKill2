{
  "nbformat": 4,
  "nbformat_minor": 0,
  "metadata": {
    "colab": {
      "provenance": []
    },
    "kernelspec": {
      "name": "python3",
      "display_name": "Python 3"
    },
    "language_info": {
      "name": "python"
    }
  },
  "cells": [
    {
      "cell_type": "markdown",
      "source": [
        "Import libraries"
      ],
      "metadata": {
        "id": "rGIEBl2lHtG7"
      }
    },
    {
      "cell_type": "code",
      "source": [
        "import numpy as np\n",
        "import pandas as pd\n",
        "from sklearn.datasets import load_iris\n",
        "from sklearn.model_selection import train_test_split\n",
        "from sklearn.linear_model import LogisticRegression\n",
        "from mlxtend.feature_selection import SequentialFeatureSelector as SFS\n",
        "from sklearn.metrics import accuracy_score"
      ],
      "metadata": {
        "id": "DFgULzQvHuwv"
      },
      "execution_count": 1,
      "outputs": []
    },
    {
      "cell_type": "code",
      "source": [
        "iris = load_iris()\n",
        "X = pd.DataFrame(iris.data, columns=iris.feature_names)\n",
        "y = iris.target\n",
        "X_train, X_test, y_train, y_test = train_test_split(X, y, test_size=0.2, random_state=42)\n",
        "clf = LogisticRegression(max_iter=200)"
      ],
      "metadata": {
        "id": "-nF0BhnMHxuC"
      },
      "execution_count": 2,
      "outputs": []
    },
    {
      "cell_type": "code",
      "source": [
        "sbs = SFS(clf,\n",
        "k_features=3,\n",
        "forward=False,\n",
        "floating=False,\n",
        "scoring='accuracy',\n",
        "cv=5)\n",
        "sbs = sbs.fit(X_train, y_train)"
      ],
      "metadata": {
        "id": "JeOCrmJsIF8e"
      },
      "execution_count": 3,
      "outputs": []
    },
    {
      "cell_type": "code",
      "source": [
        "selected_features = sbs.k_feature_idx_\n",
        "print(f\"Selected Features: {selected_features}\")\n",
        "\n",
        "X_train_sbs = sbs.transform(X_train)\n",
        "X_test_sbs = sbs.transform(X_test)\n",
        "\n",
        "clf.fit(X_train_sbs, y_train)\n",
        "\n",
        "y_pred = clf.predict(X_test_sbs)\n",
        "accuracy = accuracy_score(y_test, y_pred)\n",
        "print(f\"Model accuracy with selected features: {accuracy*100}%\")"
      ],
      "metadata": {
        "colab": {
          "base_uri": "https://localhost:8080/"
        },
        "id": "4FWbEA67IIUM",
        "outputId": "c66d5f63-8173-4e8c-c2ac-dd6d84e18aa5"
      },
      "execution_count": 4,
      "outputs": [
        {
          "output_type": "stream",
          "name": "stdout",
          "text": [
            "Selected Features: (0, 2, 3)\n",
            "Model accuracy with selected features: 100.0%\n"
          ]
        }
      ]
    }
  ]
}